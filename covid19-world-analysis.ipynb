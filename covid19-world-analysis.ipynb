{
 "cells": [
  {
   "cell_type": "markdown",
   "id": "2d6e8f08-a004-419e-87f3-07e3b754f8b7",
   "metadata": {
    "panel-layout": {
     "height": 60.5938,
     "visible": true,
     "width": 100
    }
   },
   "source": [
    "# Import Libraries"
   ]
  },
  {
   "cell_type": "code",
   "execution_count": 131,
   "id": "7937da7c-6f19-49d3-a98c-1a39dc1de9a0",
   "metadata": {},
   "outputs": [],
   "source": [
    "import pandas as pd\n",
    "import numpy as np\n",
    "import matplotlib.pyplot as plt"
   ]
  },
  {
   "cell_type": "markdown",
   "id": "e08edaa7-bc16-460b-8a6b-e77d2dbe7115",
   "metadata": {
    "panel-layout": {
     "height": 44.0859,
     "visible": true,
     "width": 100
    }
   },
   "source": [
    "### Import dataset with pandas library"
   ]
  },
  {
   "cell_type": "code",
   "execution_count": 31,
   "id": "3e61344d-a677-4ea6-92a8-819bc59f72bb",
   "metadata": {
    "panel-layout": {
     "height": 199,
     "visible": true,
     "width": 100
    }
   },
   "outputs": [
    {
     "data": {
      "text/html": [
       "<div>\n",
       "<style scoped>\n",
       "    .dataframe tbody tr th:only-of-type {\n",
       "        vertical-align: middle;\n",
       "    }\n",
       "\n",
       "    .dataframe tbody tr th {\n",
       "        vertical-align: top;\n",
       "    }\n",
       "\n",
       "    .dataframe thead th {\n",
       "        text-align: right;\n",
       "    }\n",
       "</style>\n",
       "<table border=\"1\" class=\"dataframe\">\n",
       "  <thead>\n",
       "    <tr style=\"text-align: right;\">\n",
       "      <th></th>\n",
       "      <th>Country/Region</th>\n",
       "      <th>Confirmed</th>\n",
       "      <th>Deaths</th>\n",
       "      <th>Recovered</th>\n",
       "      <th>Active</th>\n",
       "      <th>New cases</th>\n",
       "      <th>New deaths</th>\n",
       "      <th>New recovered</th>\n",
       "      <th>Deaths / 100 Cases</th>\n",
       "      <th>Recovered / 100 Cases</th>\n",
       "      <th>Deaths / 100 Recovered</th>\n",
       "      <th>Confirmed last week</th>\n",
       "      <th>1 week change</th>\n",
       "      <th>1 week % increase</th>\n",
       "      <th>WHO Region</th>\n",
       "    </tr>\n",
       "  </thead>\n",
       "  <tbody>\n",
       "    <tr>\n",
       "      <th>0</th>\n",
       "      <td>Afghanistan</td>\n",
       "      <td>36263</td>\n",
       "      <td>1269</td>\n",
       "      <td>25198</td>\n",
       "      <td>9796</td>\n",
       "      <td>106</td>\n",
       "      <td>10</td>\n",
       "      <td>18</td>\n",
       "      <td>3.50</td>\n",
       "      <td>69.49</td>\n",
       "      <td>5.04</td>\n",
       "      <td>35526</td>\n",
       "      <td>737</td>\n",
       "      <td>2.07</td>\n",
       "      <td>Eastern Mediterranean</td>\n",
       "    </tr>\n",
       "    <tr>\n",
       "      <th>1</th>\n",
       "      <td>Albania</td>\n",
       "      <td>4880</td>\n",
       "      <td>144</td>\n",
       "      <td>2745</td>\n",
       "      <td>1991</td>\n",
       "      <td>117</td>\n",
       "      <td>6</td>\n",
       "      <td>63</td>\n",
       "      <td>2.95</td>\n",
       "      <td>56.25</td>\n",
       "      <td>5.25</td>\n",
       "      <td>4171</td>\n",
       "      <td>709</td>\n",
       "      <td>17.00</td>\n",
       "      <td>Europe</td>\n",
       "    </tr>\n",
       "    <tr>\n",
       "      <th>2</th>\n",
       "      <td>Algeria</td>\n",
       "      <td>27973</td>\n",
       "      <td>1163</td>\n",
       "      <td>18837</td>\n",
       "      <td>7973</td>\n",
       "      <td>616</td>\n",
       "      <td>8</td>\n",
       "      <td>749</td>\n",
       "      <td>4.16</td>\n",
       "      <td>67.34</td>\n",
       "      <td>6.17</td>\n",
       "      <td>23691</td>\n",
       "      <td>4282</td>\n",
       "      <td>18.07</td>\n",
       "      <td>Africa</td>\n",
       "    </tr>\n",
       "    <tr>\n",
       "      <th>3</th>\n",
       "      <td>Andorra</td>\n",
       "      <td>907</td>\n",
       "      <td>52</td>\n",
       "      <td>803</td>\n",
       "      <td>52</td>\n",
       "      <td>10</td>\n",
       "      <td>0</td>\n",
       "      <td>0</td>\n",
       "      <td>5.73</td>\n",
       "      <td>88.53</td>\n",
       "      <td>6.48</td>\n",
       "      <td>884</td>\n",
       "      <td>23</td>\n",
       "      <td>2.60</td>\n",
       "      <td>Europe</td>\n",
       "    </tr>\n",
       "    <tr>\n",
       "      <th>4</th>\n",
       "      <td>Angola</td>\n",
       "      <td>950</td>\n",
       "      <td>41</td>\n",
       "      <td>242</td>\n",
       "      <td>667</td>\n",
       "      <td>18</td>\n",
       "      <td>1</td>\n",
       "      <td>0</td>\n",
       "      <td>4.32</td>\n",
       "      <td>25.47</td>\n",
       "      <td>16.94</td>\n",
       "      <td>749</td>\n",
       "      <td>201</td>\n",
       "      <td>26.84</td>\n",
       "      <td>Africa</td>\n",
       "    </tr>\n",
       "  </tbody>\n",
       "</table>\n",
       "</div>"
      ],
      "text/plain": [
       "  Country/Region  Confirmed  Deaths  Recovered  Active  New cases  New deaths  \\\n",
       "0    Afghanistan      36263    1269      25198    9796        106          10   \n",
       "1        Albania       4880     144       2745    1991        117           6   \n",
       "2        Algeria      27973    1163      18837    7973        616           8   \n",
       "3        Andorra        907      52        803      52         10           0   \n",
       "4         Angola        950      41        242     667         18           1   \n",
       "\n",
       "   New recovered  Deaths / 100 Cases  Recovered / 100 Cases  \\\n",
       "0             18                3.50                  69.49   \n",
       "1             63                2.95                  56.25   \n",
       "2            749                4.16                  67.34   \n",
       "3              0                5.73                  88.53   \n",
       "4              0                4.32                  25.47   \n",
       "\n",
       "   Deaths / 100 Recovered  Confirmed last week  1 week change  \\\n",
       "0                    5.04                35526            737   \n",
       "1                    5.25                 4171            709   \n",
       "2                    6.17                23691           4282   \n",
       "3                    6.48                  884             23   \n",
       "4                   16.94                  749            201   \n",
       "\n",
       "   1 week % increase             WHO Region  \n",
       "0               2.07  Eastern Mediterranean  \n",
       "1              17.00                 Europe  \n",
       "2              18.07                 Africa  \n",
       "3               2.60                 Europe  \n",
       "4              26.84                 Africa  "
      ]
     },
     "execution_count": 31,
     "metadata": {},
     "output_type": "execute_result"
    }
   ],
   "source": [
    "df=pd.read_csv(\"country_wise_latest.csv\")\n",
    "# check first five rows of dataset\n",
    "df.head()"
   ]
  },
  {
   "cell_type": "markdown",
   "id": "91b5695e-0bb0-4d90-abc0-4fd8783f0cfc",
   "metadata": {
    "panel-layout": {
     "height": 168.875,
     "visible": true,
     "width": 100
    }
   },
   "source": [
    "# check basic information and overview of dataset\n",
    "### No of Rows and Columns\n",
    "### Check information about datatypes and columns \n",
    "### check the names of columns\n",
    "### check the statistical information about numerical columns"
   ]
  },
  {
   "cell_type": "code",
   "execution_count": 33,
   "id": "73dc4541-7eb9-450f-a58d-03b5e990a910",
   "metadata": {
    "panel-layout": {
     "height": 27.1406,
     "visible": true,
     "width": 100
    }
   },
   "outputs": [
    {
     "data": {
      "text/plain": [
       "(187, 15)"
      ]
     },
     "execution_count": 33,
     "metadata": {},
     "output_type": "execute_result"
    }
   ],
   "source": [
    "# check number of rows and columns\n",
    "df.shape"
   ]
  },
  {
   "cell_type": "markdown",
   "id": "d82747a2-3e4e-47cf-a44d-3b2e867e1e07",
   "metadata": {
    "panel-layout": {
     "height": 44.0859,
     "visible": true,
     "width": 100
    }
   },
   "source": [
    "### in this dataset there are 187 rows and 15 columns"
   ]
  },
  {
   "cell_type": "code",
   "execution_count": 37,
   "id": "12b10569-c012-4d9f-8186-973f59bbf4ae",
   "metadata": {
    "panel-layout": {
     "height": 0,
     "visible": true,
     "width": 100
    }
   },
   "outputs": [
    {
     "name": "stdout",
     "output_type": "stream",
     "text": [
      "<class 'pandas.core.frame.DataFrame'>\n",
      "RangeIndex: 187 entries, 0 to 186\n",
      "Data columns (total 15 columns):\n",
      " #   Column                  Non-Null Count  Dtype  \n",
      "---  ------                  --------------  -----  \n",
      " 0   Country/Region          187 non-null    object \n",
      " 1   Confirmed               187 non-null    int64  \n",
      " 2   Deaths                  187 non-null    int64  \n",
      " 3   Recovered               187 non-null    int64  \n",
      " 4   Active                  187 non-null    int64  \n",
      " 5   New cases               187 non-null    int64  \n",
      " 6   New deaths              187 non-null    int64  \n",
      " 7   New recovered           187 non-null    int64  \n",
      " 8   Deaths / 100 Cases      187 non-null    float64\n",
      " 9   Recovered / 100 Cases   187 non-null    float64\n",
      " 10  Deaths / 100 Recovered  187 non-null    float64\n",
      " 11  Confirmed last week     187 non-null    int64  \n",
      " 12  1 week change           187 non-null    int64  \n",
      " 13  1 week % increase       187 non-null    float64\n",
      " 14  WHO Region              187 non-null    object \n",
      "dtypes: float64(4), int64(9), object(2)\n",
      "memory usage: 22.0+ KB\n"
     ]
    }
   ],
   "source": [
    "# check info\n",
    "df.info()"
   ]
  },
  {
   "cell_type": "code",
   "execution_count": 39,
   "id": "d8dd1f4d-b028-456b-945b-c61a69f01bf0",
   "metadata": {
    "panel-layout": {
     "height": 112.844,
     "visible": true,
     "width": 100
    }
   },
   "outputs": [
    {
     "data": {
      "text/plain": [
       "Index(['Country/Region', 'Confirmed', 'Deaths', 'Recovered', 'Active',\n",
       "       'New cases', 'New deaths', 'New recovered', 'Deaths / 100 Cases',\n",
       "       'Recovered / 100 Cases', 'Deaths / 100 Recovered',\n",
       "       'Confirmed last week', '1 week change', '1 week % increase',\n",
       "       'WHO Region'],\n",
       "      dtype='object')"
      ]
     },
     "execution_count": 39,
     "metadata": {},
     "output_type": "execute_result"
    }
   ],
   "source": [
    "# check the names of the columns\n",
    "df.columns"
   ]
  },
  {
   "cell_type": "code",
   "execution_count": 43,
   "id": "be123789-90f0-4745-a582-1fabd76bcbea",
   "metadata": {
    "panel-layout": {
     "height": 278.5,
     "visible": true,
     "width": 100
    }
   },
   "outputs": [
    {
     "data": {
      "text/html": [
       "<div>\n",
       "<style scoped>\n",
       "    .dataframe tbody tr th:only-of-type {\n",
       "        vertical-align: middle;\n",
       "    }\n",
       "\n",
       "    .dataframe tbody tr th {\n",
       "        vertical-align: top;\n",
       "    }\n",
       "\n",
       "    .dataframe thead th {\n",
       "        text-align: right;\n",
       "    }\n",
       "</style>\n",
       "<table border=\"1\" class=\"dataframe\">\n",
       "  <thead>\n",
       "    <tr style=\"text-align: right;\">\n",
       "      <th></th>\n",
       "      <th>Confirmed</th>\n",
       "      <th>Deaths</th>\n",
       "      <th>Recovered</th>\n",
       "      <th>Active</th>\n",
       "      <th>New cases</th>\n",
       "      <th>New deaths</th>\n",
       "      <th>New recovered</th>\n",
       "      <th>Deaths / 100 Cases</th>\n",
       "      <th>Recovered / 100 Cases</th>\n",
       "      <th>Deaths / 100 Recovered</th>\n",
       "      <th>Confirmed last week</th>\n",
       "      <th>1 week change</th>\n",
       "      <th>1 week % increase</th>\n",
       "    </tr>\n",
       "  </thead>\n",
       "  <tbody>\n",
       "    <tr>\n",
       "      <th>count</th>\n",
       "      <td>1.870000e+02</td>\n",
       "      <td>187.000000</td>\n",
       "      <td>1.870000e+02</td>\n",
       "      <td>1.870000e+02</td>\n",
       "      <td>187.000000</td>\n",
       "      <td>187.000000</td>\n",
       "      <td>187.000000</td>\n",
       "      <td>187.000000</td>\n",
       "      <td>187.000000</td>\n",
       "      <td>187.00</td>\n",
       "      <td>1.870000e+02</td>\n",
       "      <td>187.000000</td>\n",
       "      <td>187.000000</td>\n",
       "    </tr>\n",
       "    <tr>\n",
       "      <th>mean</th>\n",
       "      <td>8.813094e+04</td>\n",
       "      <td>3497.518717</td>\n",
       "      <td>5.063148e+04</td>\n",
       "      <td>3.400194e+04</td>\n",
       "      <td>1222.957219</td>\n",
       "      <td>28.957219</td>\n",
       "      <td>933.812834</td>\n",
       "      <td>3.019519</td>\n",
       "      <td>64.820535</td>\n",
       "      <td>inf</td>\n",
       "      <td>7.868248e+04</td>\n",
       "      <td>9448.459893</td>\n",
       "      <td>13.606203</td>\n",
       "    </tr>\n",
       "    <tr>\n",
       "      <th>std</th>\n",
       "      <td>3.833187e+05</td>\n",
       "      <td>14100.002482</td>\n",
       "      <td>1.901882e+05</td>\n",
       "      <td>2.133262e+05</td>\n",
       "      <td>5710.374790</td>\n",
       "      <td>120.037173</td>\n",
       "      <td>4197.719635</td>\n",
       "      <td>3.454302</td>\n",
       "      <td>26.287694</td>\n",
       "      <td>NaN</td>\n",
       "      <td>3.382737e+05</td>\n",
       "      <td>47491.127684</td>\n",
       "      <td>24.509838</td>\n",
       "    </tr>\n",
       "    <tr>\n",
       "      <th>min</th>\n",
       "      <td>1.000000e+01</td>\n",
       "      <td>0.000000</td>\n",
       "      <td>0.000000e+00</td>\n",
       "      <td>0.000000e+00</td>\n",
       "      <td>0.000000</td>\n",
       "      <td>0.000000</td>\n",
       "      <td>0.000000</td>\n",
       "      <td>0.000000</td>\n",
       "      <td>0.000000</td>\n",
       "      <td>0.00</td>\n",
       "      <td>1.000000e+01</td>\n",
       "      <td>-47.000000</td>\n",
       "      <td>-3.840000</td>\n",
       "    </tr>\n",
       "    <tr>\n",
       "      <th>25%</th>\n",
       "      <td>1.114000e+03</td>\n",
       "      <td>18.500000</td>\n",
       "      <td>6.265000e+02</td>\n",
       "      <td>1.415000e+02</td>\n",
       "      <td>4.000000</td>\n",
       "      <td>0.000000</td>\n",
       "      <td>0.000000</td>\n",
       "      <td>0.945000</td>\n",
       "      <td>48.770000</td>\n",
       "      <td>1.45</td>\n",
       "      <td>1.051500e+03</td>\n",
       "      <td>49.000000</td>\n",
       "      <td>2.775000</td>\n",
       "    </tr>\n",
       "    <tr>\n",
       "      <th>50%</th>\n",
       "      <td>5.059000e+03</td>\n",
       "      <td>108.000000</td>\n",
       "      <td>2.815000e+03</td>\n",
       "      <td>1.600000e+03</td>\n",
       "      <td>49.000000</td>\n",
       "      <td>1.000000</td>\n",
       "      <td>22.000000</td>\n",
       "      <td>2.150000</td>\n",
       "      <td>71.320000</td>\n",
       "      <td>3.62</td>\n",
       "      <td>5.020000e+03</td>\n",
       "      <td>432.000000</td>\n",
       "      <td>6.890000</td>\n",
       "    </tr>\n",
       "    <tr>\n",
       "      <th>75%</th>\n",
       "      <td>4.046050e+04</td>\n",
       "      <td>734.000000</td>\n",
       "      <td>2.260600e+04</td>\n",
       "      <td>9.149000e+03</td>\n",
       "      <td>419.500000</td>\n",
       "      <td>6.000000</td>\n",
       "      <td>221.000000</td>\n",
       "      <td>3.875000</td>\n",
       "      <td>86.885000</td>\n",
       "      <td>6.44</td>\n",
       "      <td>3.708050e+04</td>\n",
       "      <td>3172.000000</td>\n",
       "      <td>16.855000</td>\n",
       "    </tr>\n",
       "    <tr>\n",
       "      <th>max</th>\n",
       "      <td>4.290259e+06</td>\n",
       "      <td>148011.000000</td>\n",
       "      <td>1.846641e+06</td>\n",
       "      <td>2.816444e+06</td>\n",
       "      <td>56336.000000</td>\n",
       "      <td>1076.000000</td>\n",
       "      <td>33728.000000</td>\n",
       "      <td>28.560000</td>\n",
       "      <td>100.000000</td>\n",
       "      <td>inf</td>\n",
       "      <td>3.834677e+06</td>\n",
       "      <td>455582.000000</td>\n",
       "      <td>226.320000</td>\n",
       "    </tr>\n",
       "  </tbody>\n",
       "</table>\n",
       "</div>"
      ],
      "text/plain": [
       "          Confirmed         Deaths     Recovered        Active     New cases  \\\n",
       "count  1.870000e+02     187.000000  1.870000e+02  1.870000e+02    187.000000   \n",
       "mean   8.813094e+04    3497.518717  5.063148e+04  3.400194e+04   1222.957219   \n",
       "std    3.833187e+05   14100.002482  1.901882e+05  2.133262e+05   5710.374790   \n",
       "min    1.000000e+01       0.000000  0.000000e+00  0.000000e+00      0.000000   \n",
       "25%    1.114000e+03      18.500000  6.265000e+02  1.415000e+02      4.000000   \n",
       "50%    5.059000e+03     108.000000  2.815000e+03  1.600000e+03     49.000000   \n",
       "75%    4.046050e+04     734.000000  2.260600e+04  9.149000e+03    419.500000   \n",
       "max    4.290259e+06  148011.000000  1.846641e+06  2.816444e+06  56336.000000   \n",
       "\n",
       "        New deaths  New recovered  Deaths / 100 Cases  Recovered / 100 Cases  \\\n",
       "count   187.000000     187.000000          187.000000             187.000000   \n",
       "mean     28.957219     933.812834            3.019519              64.820535   \n",
       "std     120.037173    4197.719635            3.454302              26.287694   \n",
       "min       0.000000       0.000000            0.000000               0.000000   \n",
       "25%       0.000000       0.000000            0.945000              48.770000   \n",
       "50%       1.000000      22.000000            2.150000              71.320000   \n",
       "75%       6.000000     221.000000            3.875000              86.885000   \n",
       "max    1076.000000   33728.000000           28.560000             100.000000   \n",
       "\n",
       "       Deaths / 100 Recovered  Confirmed last week  1 week change  \\\n",
       "count                  187.00         1.870000e+02     187.000000   \n",
       "mean                      inf         7.868248e+04    9448.459893   \n",
       "std                       NaN         3.382737e+05   47491.127684   \n",
       "min                      0.00         1.000000e+01     -47.000000   \n",
       "25%                      1.45         1.051500e+03      49.000000   \n",
       "50%                      3.62         5.020000e+03     432.000000   \n",
       "75%                      6.44         3.708050e+04    3172.000000   \n",
       "max                       inf         3.834677e+06  455582.000000   \n",
       "\n",
       "       1 week % increase  \n",
       "count         187.000000  \n",
       "mean           13.606203  \n",
       "std            24.509838  \n",
       "min            -3.840000  \n",
       "25%             2.775000  \n",
       "50%             6.890000  \n",
       "75%            16.855000  \n",
       "max           226.320000  "
      ]
     },
     "execution_count": 43,
     "metadata": {},
     "output_type": "execute_result"
    }
   ],
   "source": [
    "# statistical summary\n",
    "df.describe()"
   ]
  },
  {
   "cell_type": "markdown",
   "id": "4314bc48-5bb2-489c-8b1f-612220c19d25",
   "metadata": {
    "panel-layout": {
     "height": 195.945,
     "visible": true,
     "width": 100
    }
   },
   "source": [
    "# We will analyze by country and WHO region, and find:\n",
    "\n",
    "### Top 10 countries by confirmed cases\n",
    "\n",
    "### Countries with highest death rates\n",
    "\n",
    "### WHO regions with most cases\n",
    "\n",
    "### Growth rate by countries\n",
    "\n",
    "### Visual dashboards"
   ]
  },
  {
   "cell_type": "markdown",
   "id": "4d18f529-06ae-4e87-8283-e0621e2b1a6b",
   "metadata": {
    "panel-layout": {
     "height": 114.734,
     "visible": true,
     "width": 100
    }
   },
   "source": [
    "# Step 3: Basic Data Cleaning\n",
    "### check missing values \n",
    "### check duplicates values"
   ]
  },
  {
   "cell_type": "code",
   "execution_count": 54,
   "id": "711fe06c-ea9d-4ddc-a073-ca1014b13112",
   "metadata": {
    "panel-layout": {
     "height": 435,
     "visible": true,
     "width": 100
    }
   },
   "outputs": [
    {
     "data": {
      "text/plain": [
       "Country/Region            0\n",
       "Confirmed                 0\n",
       "Deaths                    0\n",
       "Recovered                 0\n",
       "Active                    0\n",
       "New cases                 0\n",
       "New deaths                0\n",
       "New recovered             0\n",
       "Deaths / 100 Cases        0\n",
       "Recovered / 100 Cases     0\n",
       "Deaths / 100 Recovered    0\n",
       "Confirmed last week       0\n",
       "1 week change             0\n",
       "1 week % increase         0\n",
       "WHO Region                0\n",
       "dtype: int64"
      ]
     },
     "execution_count": 54,
     "metadata": {},
     "output_type": "execute_result"
    }
   ],
   "source": [
    "# check missing values\n",
    "df.isnull().sum()"
   ]
  },
  {
   "cell_type": "markdown",
   "id": "decbad8e-cb95-4106-a6c8-89c4ab2f2da6",
   "metadata": {
    "panel-layout": {
     "height": 44.0859,
     "visible": true,
     "width": 100
    }
   },
   "source": [
    "### we can see that there is no Null Values"
   ]
  },
  {
   "cell_type": "code",
   "execution_count": 59,
   "id": "aea75ae9-0933-43bb-a981-5d669421e30c",
   "metadata": {
    "panel-layout": {
     "height": 27.1406,
     "visible": true,
     "width": 100
    }
   },
   "outputs": [
    {
     "data": {
      "text/plain": [
       "0"
      ]
     },
     "execution_count": 59,
     "metadata": {},
     "output_type": "execute_result"
    }
   ],
   "source": [
    "# check duplicated values\n",
    "df.duplicated().sum()"
   ]
  },
  {
   "cell_type": "markdown",
   "id": "b2eb6437-b864-4a73-b98b-eb010dff5003",
   "metadata": {
    "panel-layout": {
     "height": 44.0859,
     "visible": true,
     "width": 100
    }
   },
   "source": [
    "### here we can see that there is no duplicates values"
   ]
  },
  {
   "cell_type": "markdown",
   "id": "a1e21f43-68d3-4f1f-96b9-d9d07ffc2960",
   "metadata": {
    "panel-layout": {
     "height": 87.6641,
     "visible": true,
     "width": 100
    }
   },
   "source": [
    "# Step 4\n",
    "### Top 10 countries by confirmed cases\n"
   ]
  },
  {
   "cell_type": "code",
   "execution_count": 120,
   "id": "fffe77f6-e6bc-40ca-97f5-7b55cd8fa722",
   "metadata": {},
   "outputs": [],
   "source": [
    "# top ten confirmed case with region\n",
    "top10_confirmed=df.groupby('Country/Region')['Confirmed'].sum().sort_values(ascending=False)"
   ]
  },
  {
   "cell_type": "code",
   "execution_count": 126,
   "id": "6c1ecf91-5f85-4fd0-810e-0c4c9d496b39",
   "metadata": {
    "panel-layout": {
     "height": 302.5,
     "visible": true,
     "width": 100
    }
   },
   "outputs": [
    {
     "data": {
      "text/html": [
       "<div>\n",
       "<style scoped>\n",
       "    .dataframe tbody tr th:only-of-type {\n",
       "        vertical-align: middle;\n",
       "    }\n",
       "\n",
       "    .dataframe tbody tr th {\n",
       "        vertical-align: top;\n",
       "    }\n",
       "\n",
       "    .dataframe thead th {\n",
       "        text-align: right;\n",
       "    }\n",
       "</style>\n",
       "<table border=\"1\" class=\"dataframe\">\n",
       "  <thead>\n",
       "    <tr style=\"text-align: right;\">\n",
       "      <th></th>\n",
       "      <th>Country/Region</th>\n",
       "      <th>Confirmed</th>\n",
       "    </tr>\n",
       "  </thead>\n",
       "  <tbody>\n",
       "    <tr>\n",
       "      <th>0</th>\n",
       "      <td>US</td>\n",
       "      <td>4290259</td>\n",
       "    </tr>\n",
       "    <tr>\n",
       "      <th>1</th>\n",
       "      <td>Brazil</td>\n",
       "      <td>2442375</td>\n",
       "    </tr>\n",
       "    <tr>\n",
       "      <th>2</th>\n",
       "      <td>India</td>\n",
       "      <td>1480073</td>\n",
       "    </tr>\n",
       "    <tr>\n",
       "      <th>3</th>\n",
       "      <td>Russia</td>\n",
       "      <td>816680</td>\n",
       "    </tr>\n",
       "    <tr>\n",
       "      <th>4</th>\n",
       "      <td>South Africa</td>\n",
       "      <td>452529</td>\n",
       "    </tr>\n",
       "    <tr>\n",
       "      <th>5</th>\n",
       "      <td>Mexico</td>\n",
       "      <td>395489</td>\n",
       "    </tr>\n",
       "    <tr>\n",
       "      <th>6</th>\n",
       "      <td>Peru</td>\n",
       "      <td>389717</td>\n",
       "    </tr>\n",
       "    <tr>\n",
       "      <th>7</th>\n",
       "      <td>Chile</td>\n",
       "      <td>347923</td>\n",
       "    </tr>\n",
       "    <tr>\n",
       "      <th>8</th>\n",
       "      <td>United Kingdom</td>\n",
       "      <td>301708</td>\n",
       "    </tr>\n",
       "    <tr>\n",
       "      <th>9</th>\n",
       "      <td>Iran</td>\n",
       "      <td>293606</td>\n",
       "    </tr>\n",
       "  </tbody>\n",
       "</table>\n",
       "</div>"
      ],
      "text/plain": [
       "   Country/Region  Confirmed\n",
       "0              US    4290259\n",
       "1          Brazil    2442375\n",
       "2           India    1480073\n",
       "3          Russia     816680\n",
       "4    South Africa     452529\n",
       "5          Mexico     395489\n",
       "6            Peru     389717\n",
       "7           Chile     347923\n",
       "8  United Kingdom     301708\n",
       "9            Iran     293606"
      ]
     },
     "execution_count": 126,
     "metadata": {},
     "output_type": "execute_result"
    }
   ],
   "source": [
    "top10_confirmed.reset_index().head(10)"
   ]
  },
  {
   "cell_type": "code",
   "execution_count": 143,
   "id": "66aa1f9c-fad7-4020-9153-7034d36f1bb0",
   "metadata": {
    "panel-layout": {
     "height": 874,
     "visible": true,
     "width": 100
    }
   },
   "outputs": [
    {
     "data": {
      "image/png": "[encoded data removed]",
      "text/plain": [
       "<Figure size 1200x600 with 1 Axes>"
      ]
     },
     "metadata": {},
     "output_type": "display_data"
    }
   ],
   "source": [
    "\n",
    "\n",
    "# Sort by Confirmed cases and pick top 10\n",
    "top10_confirmed = df.sort_values('Confirmed', ascending=False).head(10)\n",
    "\n",
    "# Plot\n",
    "plt.figure(figsize=(12,6))\n",
    "plt.barh(top10_confirmed['Country/Region'], top10_confirmed['Confirmed'], color='skyblue')\n",
    "plt.xlabel('Total Confirmed Cases')\n",
    "plt.title('Top 10 Countries by Confirmed COVID-19 Cases')\n",
    "plt.gca().invert_yaxis()  # To have highest on top\n",
    "plt.grid(True)\n",
    "plt.show()\n"
   ]
  },
  {
   "cell_type": "markdown",
   "id": "3e44a1d7-57ae-48e5-917a-e78f9db7d46a",
   "metadata": {
    "panel-layout": {
     "height": 114.734,
     "visible": true,
     "width": 100
    }
   },
   "source": [
    "# Observation\n",
    "### here we can see that the US has higest confirmed case of COVID-19 which is 4290259\n",
    "### we can see it by graph and otherways"
   ]
  },
  {
   "cell_type": "markdown",
   "id": "67879d1f-8705-4b7c-9feb-df3db251752f",
   "metadata": {
    "panel-layout": {
     "height": 60.5938,
     "visible": true,
     "width": 100
    }
   },
   "source": [
    "# ____________________________________________________________________________________________________"
   ]
  },
  {
   "cell_type": "markdown",
   "id": "761e88d7-8041-46e1-a531-82c41242c220",
   "metadata": {
    "panel-layout": {
     "height": 60.5938,
     "visible": true,
     "width": 100
    }
   },
   "source": [
    "# Step 3: Find Countries with Highest Death Rate (%)"
   ]
  },
  {
   "cell_type": "code",
   "execution_count": 137,
   "id": "57d060c5-d1df-4ef5-ade4-40caca70988e",
   "metadata": {},
   "outputs": [],
   "source": [
    "# top ten highest death case with region\n",
    "top10_death_rate=df.groupby('Country/Region')['Deaths / 100 Cases'].sum().sort_values(ascending=False)"
   ]
  },
  {
   "cell_type": "code",
   "execution_count": 139,
   "id": "9f8f7433-e5fc-475c-9581-46d5f8d13198",
   "metadata": {
    "panel-layout": {
     "height": 1176.5,
     "visible": true,
     "width": 100
    }
   },
   "outputs": [
    {
     "data": {
      "text/html": [
       "<div>\n",
       "<style scoped>\n",
       "    .dataframe tbody tr th:only-of-type {\n",
       "        vertical-align: middle;\n",
       "    }\n",
       "\n",
       "    .dataframe tbody tr th {\n",
       "        vertical-align: top;\n",
       "    }\n",
       "\n",
       "    .dataframe thead th {\n",
       "        text-align: right;\n",
       "    }\n",
       "</style>\n",
       "<table border=\"1\" class=\"dataframe\">\n",
       "  <thead>\n",
       "    <tr style=\"text-align: right;\">\n",
       "      <th></th>\n",
       "      <th>Country/Region</th>\n",
       "      <th>Deaths / 100 Cases</th>\n",
       "    </tr>\n",
       "  </thead>\n",
       "  <tbody>\n",
       "    <tr>\n",
       "      <th>0</th>\n",
       "      <td>Yemen</td>\n",
       "      <td>28.56</td>\n",
       "    </tr>\n",
       "    <tr>\n",
       "      <th>1</th>\n",
       "      <td>United Kingdom</td>\n",
       "      <td>15.19</td>\n",
       "    </tr>\n",
       "    <tr>\n",
       "      <th>2</th>\n",
       "      <td>Belgium</td>\n",
       "      <td>14.79</td>\n",
       "    </tr>\n",
       "    <tr>\n",
       "      <th>3</th>\n",
       "      <td>Italy</td>\n",
       "      <td>14.26</td>\n",
       "    </tr>\n",
       "    <tr>\n",
       "      <th>4</th>\n",
       "      <td>France</td>\n",
       "      <td>13.71</td>\n",
       "    </tr>\n",
       "    <tr>\n",
       "      <th>5</th>\n",
       "      <td>Hungary</td>\n",
       "      <td>13.40</td>\n",
       "    </tr>\n",
       "    <tr>\n",
       "      <th>6</th>\n",
       "      <td>Netherlands</td>\n",
       "      <td>11.53</td>\n",
       "    </tr>\n",
       "    <tr>\n",
       "      <th>7</th>\n",
       "      <td>Mexico</td>\n",
       "      <td>11.13</td>\n",
       "    </tr>\n",
       "    <tr>\n",
       "      <th>8</th>\n",
       "      <td>Spain</td>\n",
       "      <td>10.44</td>\n",
       "    </tr>\n",
       "    <tr>\n",
       "      <th>9</th>\n",
       "      <td>Western Sahara</td>\n",
       "      <td>10.00</td>\n",
       "    </tr>\n",
       "  </tbody>\n",
       "</table>\n",
       "</div>"
      ],
      "text/plain": [
       "   Country/Region  Deaths / 100 Cases\n",
       "0           Yemen               28.56\n",
       "1  United Kingdom               15.19\n",
       "2         Belgium               14.79\n",
       "3           Italy               14.26\n",
       "4          France               13.71\n",
       "5         Hungary               13.40\n",
       "6     Netherlands               11.53\n",
       "7          Mexico               11.13\n",
       "8           Spain               10.44\n",
       "9  Western Sahara               10.00"
      ]
     },
     "execution_count": 139,
     "metadata": {},
     "output_type": "execute_result"
    }
   ],
   "source": [
    "top10_death_rate.reset_index().head(10)"
   ]
  },
  {
   "cell_type": "code",
   "execution_count": 147,
   "id": "696431e3-f689-4fcf-b722-6d53ac113157",
   "metadata": {
    "panel-layout": {
     "height": 874,
     "visible": true,
     "width": 100
    }
   },
   "outputs": [
    {
     "data": {
      "image/png": "[encoded data removed]",
      "text/plain": [
       "<Figure size 1200x600 with 1 Axes>"
      ]
     },
     "metadata": {},
     "output_type": "display_data"
    }
   ],
   "source": [
    "# Sort by Confirmed cases and pick top 10\n",
    "top10_death_rate = df.sort_values('Deaths / 100 Cases', ascending=False).head(10)\n",
    "\n",
    "plt.figure(figsize=(12,6))\n",
    "plt.barh(top10_death_rate['Country/Region'], top10_death_rate['Deaths / 100 Cases'], color='salmon')\n",
    "plt.xlabel('Death Rate (%)')\n",
    "plt.title('Top 10 Countries by Death Rate (per 100 Cases)')\n",
    "plt.gca().invert_yaxis()\n",
    "plt.grid(True)\n",
    "plt.show()"
   ]
  },
  {
   "cell_type": "markdown",
   "id": "e68e04aa-8703-4444-8d11-97413be70ccb",
   "metadata": {
    "panel-layout": {
     "height": 158.312,
     "visible": true,
     "width": 100
    }
   },
   "source": [
    "# Observation\n",
    "### Yemen is at the top — highest death rate! ⚰️\n",
    "### (Not surprising — Yemen had a weak healthcare system during COVID.)\n",
    "# ____________________________________________________________________________"
   ]
  },
  {
   "cell_type": "markdown",
   "id": "cc936124-f6cd-4e9e-b07b-06d8999a8fa4",
   "metadata": {
    "panel-layout": {
     "height": 60.5938,
     "visible": true,
     "width": 100
    }
   },
   "source": [
    "# 🌍 Step 4: WHO Region  Analysis (Covid by Region)"
   ]
  },
  {
   "cell_type": "code",
   "execution_count": 159,
   "id": "860572e1-7084-4404-a079-3382843026b0",
   "metadata": {
    "panel-layout": {
     "height": 1097,
     "visible": true,
     "width": 100
    }
   },
   "outputs": [
    {
     "data": {
      "text/plain": [
       "WHO Region\n",
       "Europe                   56\n",
       "Africa                   48\n",
       "Americas                 35\n",
       "Eastern Mediterranean    22\n",
       "Western Pacific          16\n",
       "South-East Asia          10\n",
       "Name: count, dtype: int64"
      ]
     },
     "execution_count": 159,
     "metadata": {},
     "output_type": "execute_result"
    }
   ],
   "source": [
    "df[\"WHO Region\"].value_counts()"
   ]
  },
  {
   "cell_type": "markdown",
   "id": "6b94e521-d72e-4072-bcf2-2cb9e89463fd",
   "metadata": {
    "panel-layout": {
     "height": 44.0859,
     "visible": true,
     "width": 100
    }
   },
   "source": [
    "### Now let's see which WHO region had the highest confirmed cases overall."
   ]
  },
  {
   "cell_type": "code",
   "execution_count": 166,
   "id": "ae0bc064-d9e4-4891-99b4-3e03e1ad6cdd",
   "metadata": {
    "panel-layout": {
     "height": 1070.5,
     "visible": true,
     "width": 100
    }
   },
   "outputs": [
    {
     "data": {
      "text/html": [
       "<div>\n",
       "<style scoped>\n",
       "    .dataframe tbody tr th:only-of-type {\n",
       "        vertical-align: middle;\n",
       "    }\n",
       "\n",
       "    .dataframe tbody tr th {\n",
       "        vertical-align: top;\n",
       "    }\n",
       "\n",
       "    .dataframe thead th {\n",
       "        text-align: right;\n",
       "    }\n",
       "</style>\n",
       "<table border=\"1\" class=\"dataframe\">\n",
       "  <thead>\n",
       "    <tr style=\"text-align: right;\">\n",
       "      <th></th>\n",
       "      <th>WHO Region</th>\n",
       "      <th>Confirmed</th>\n",
       "    </tr>\n",
       "  </thead>\n",
       "  <tbody>\n",
       "    <tr>\n",
       "      <th>0</th>\n",
       "      <td>Americas</td>\n",
       "      <td>8839286</td>\n",
       "    </tr>\n",
       "    <tr>\n",
       "      <th>1</th>\n",
       "      <td>Europe</td>\n",
       "      <td>3299523</td>\n",
       "    </tr>\n",
       "    <tr>\n",
       "      <th>2</th>\n",
       "      <td>South-East Asia</td>\n",
       "      <td>1835297</td>\n",
       "    </tr>\n",
       "    <tr>\n",
       "      <th>3</th>\n",
       "      <td>Eastern Mediterranean</td>\n",
       "      <td>1490744</td>\n",
       "    </tr>\n",
       "    <tr>\n",
       "      <th>4</th>\n",
       "      <td>Africa</td>\n",
       "      <td>723207</td>\n",
       "    </tr>\n",
       "    <tr>\n",
       "      <th>5</th>\n",
       "      <td>Western Pacific</td>\n",
       "      <td>292428</td>\n",
       "    </tr>\n",
       "  </tbody>\n",
       "</table>\n",
       "</div>"
      ],
      "text/plain": [
       "              WHO Region  Confirmed\n",
       "0               Americas    8839286\n",
       "1                 Europe    3299523\n",
       "2        South-East Asia    1835297\n",
       "3  Eastern Mediterranean    1490744\n",
       "4                 Africa     723207\n",
       "5        Western Pacific     292428"
      ]
     },
     "execution_count": 166,
     "metadata": {},
     "output_type": "execute_result"
    }
   ],
   "source": [
    "Region_cases=df.groupby(\"WHO Region\")['Confirmed'].sum().sort_values(ascending=False)\n",
    "Region_cases.reset_index()"
   ]
  },
  {
   "cell_type": "code",
   "execution_count": 176,
   "id": "779e77f2-a084-4f8f-803a-8696658c9cf4",
   "metadata": {
    "panel-layout": {
     "height": 874,
     "visible": true,
     "width": 100
    }
   },
   "outputs": [
    {
     "data": {
      "image/png": "[encoded data removed]",
      "text/plain": [
       "<Figure size 1200x600 with 1 Axes>"
      ]
     },
     "metadata": {},
     "output_type": "display_data"
    }
   ],
   "source": [
    "# Plot\n",
    "plt.figure(figsize=(12,6))\n",
    "Region_cases.plot(kind='bar', color='mediumseagreen')\n",
    "plt.ylabel('Total Confirmed Cases')\n",
    "plt.title('Total Confirmed COVID-19 Cases by WHO Region')\n",
    "plt.grid(True)\n",
    "plt.xticks(rotation=360)\n",
    "plt.show()"
   ]
  },
  {
   "cell_type": "markdown",
   "id": "cbd914cd-aa6d-4186-ac05-7d84a42479dc",
   "metadata": {
    "panel-layout": {
     "height": 114.734,
     "visible": true,
     "width": 100
    }
   },
   "source": [
    "### \"Americas\" is the highest WHO Region with confirmed case which is 8839286\n",
    "### the lowest region  with confirmed case is Western Pacific\t292428\n",
    "# _________________________________________________________________"
   ]
  },
  {
   "cell_type": "markdown",
   "id": "8bd83ac5-a3ab-4676-a2a8-ab70932a6499",
   "metadata": {
    "panel-layout": {
     "height": 181,
     "visible": true,
     "width": 100
    }
   },
   "source": [
    "# 🌟 Recap of What WE Achieved So Far:\n",
    "✅ Found top countries by total cases\n",
    "\n",
    "✅ Found countries with highest death rates\n",
    "\n",
    "✅ Found WHO regions with the most Covid cases\n",
    "\n",
    "✅ Built professional visualizations"
   ]
  },
  {
   "cell_type": "markdown",
   "id": "923d034a-2f86-46a4-8153-3770581a5fe1",
   "metadata": {
    "panel-layout": {
     "height": 207.141,
     "visible": true,
     "width": 100
    }
   },
   "source": [
    "#  🚀 Step 5: Find Top Growing Countries (Weekly % Increase)\n",
    "### 🎯 Now\n",
    "\n",
    "### 👉 We can:\n",
    "\n",
    "Find weekly growth % of countries 📈\n",
    "\n",
    "Find top growing countries 🚀\n",
    "\n",
    "Build a small dashboard inside Jupyter (real portfolio style) 🖥️✨"
   ]
  },
  {
   "cell_type": "code",
   "execution_count": 199,
   "id": "ef1d89f6-d191-45d7-9f2b-5e061f6c1dc8",
   "metadata": {
    "panel-layout": {
     "height": 1176.5,
     "visible": true,
     "width": 100
    }
   },
   "outputs": [
    {
     "data": {
      "text/html": [
       "<div>\n",
       "<style scoped>\n",
       "    .dataframe tbody tr th:only-of-type {\n",
       "        vertical-align: middle;\n",
       "    }\n",
       "\n",
       "    .dataframe tbody tr th {\n",
       "        vertical-align: top;\n",
       "    }\n",
       "\n",
       "    .dataframe thead th {\n",
       "        text-align: right;\n",
       "    }\n",
       "</style>\n",
       "<table border=\"1\" class=\"dataframe\">\n",
       "  <thead>\n",
       "    <tr style=\"text-align: right;\">\n",
       "      <th></th>\n",
       "      <th>1 week % increase</th>\n",
       "      <th>Country/Region</th>\n",
       "    </tr>\n",
       "  </thead>\n",
       "  <tbody>\n",
       "    <tr>\n",
       "      <th>0</th>\n",
       "      <td>57.85</td>\n",
       "      <td>Zimbabwe</td>\n",
       "    </tr>\n",
       "    <tr>\n",
       "      <th>1</th>\n",
       "      <td>36.86</td>\n",
       "      <td>Zambia</td>\n",
       "    </tr>\n",
       "    <tr>\n",
       "      <th>2</th>\n",
       "      <td>4.45</td>\n",
       "      <td>Yemen</td>\n",
       "    </tr>\n",
       "    <tr>\n",
       "      <th>3</th>\n",
       "      <td>19.12</td>\n",
       "      <td>West Bank and Gaza</td>\n",
       "    </tr>\n",
       "    <tr>\n",
       "      <th>4</th>\n",
       "      <td>29.63</td>\n",
       "      <td>Venezuela</td>\n",
       "    </tr>\n",
       "    <tr>\n",
       "      <th>5</th>\n",
       "      <td>23.67</td>\n",
       "      <td>Uzbekistan</td>\n",
       "    </tr>\n",
       "    <tr>\n",
       "      <th>6</th>\n",
       "      <td>12.97</td>\n",
       "      <td>Uruguay</td>\n",
       "    </tr>\n",
       "    <tr>\n",
       "      <th>7</th>\n",
       "      <td>1.60</td>\n",
       "      <td>United Kingdom</td>\n",
       "    </tr>\n",
       "    <tr>\n",
       "      <th>8</th>\n",
       "      <td>3.47</td>\n",
       "      <td>United Arab Emirates</td>\n",
       "    </tr>\n",
       "    <tr>\n",
       "      <th>9</th>\n",
       "      <td>5.52</td>\n",
       "      <td>Uganda</td>\n",
       "    </tr>\n",
       "  </tbody>\n",
       "</table>\n",
       "</div>"
      ],
      "text/plain": [
       "   1 week % increase        Country/Region\n",
       "0              57.85              Zimbabwe\n",
       "1              36.86                Zambia\n",
       "2               4.45                 Yemen\n",
       "3              19.12    West Bank and Gaza\n",
       "4              29.63             Venezuela\n",
       "5              23.67            Uzbekistan\n",
       "6              12.97               Uruguay\n",
       "7               1.60        United Kingdom\n",
       "8               3.47  United Arab Emirates\n",
       "9               5.52                Uganda"
      ]
     },
     "execution_count": 199,
     "metadata": {},
     "output_type": "execute_result"
    }
   ],
   "source": [
    "# Find weekly growth % of countries\n",
    "top10_growth=df.groupby(\"1 week % increase\")[\"Country/Region\"].sum().sort_values(ascending=False).reset_index().head(10)\n",
    "top10_growth"
   ]
  },
  {
   "cell_type": "code",
   "execution_count": 201,
   "id": "c9322564-1638-4e46-b050-56246f5065d6",
   "metadata": {
    "panel-layout": {
     "height": 874,
     "visible": true,
     "width": 100
    }
   },
   "outputs": [
    {
     "data": {
      "image/png": "[encoded data removed]",
      "text/plain": [
       "<Figure size 1200x600 with 1 Axes>"
      ]
     },
     "metadata": {},
     "output_type": "display_data"
    }
   ],
   "source": [
    "\n",
    "\n",
    "# Plot\n",
    "plt.figure(figsize=(12,6))\n",
    "plt.barh(top10_growth['Country/Region'], top10_growth['1 week % increase'], color='orange')\n",
    "plt.xlabel('1 Week % Increase')\n",
    "plt.title('Top 10 Countries by COVID-19 Weekly Growth (%)')\n",
    "plt.gca().invert_yaxis()\n",
    "plt.grid(True)\n",
    "plt.show()"
   ]
  },
  {
   "cell_type": "markdown",
   "id": "0fd08542-9cc2-4023-bc4b-e729b85c6f56",
   "metadata": {
    "panel-layout": {
     "height": 158.312,
     "visible": true,
     "width": 100
    }
   },
   "source": [
    "# Observation\n",
    "### Zimbabwe is the country with the highest 1-week % growth in our dataset! 📈🔥\n",
    "### (Small countries can show big % growth if they start from low numbers.)\n",
    "# ___________________________________________________________________________"
   ]
  },
  {
   "cell_type": "markdown",
   "id": "89e4ab7e-8844-4bc1-8c07-04eaa677f7d4",
   "metadata": {
    "panel-layout": {
     "height": 60.5938,
     "visible": true,
     "width": 100
    }
   },
   "source": [
    "# 🎯 FINAL STEP: Build a Mini Covid Dashboard in One Cell"
   ]
  },
  {
   "cell_type": "code",
   "execution_count": 210,
   "id": "a9309555-fbdd-42bf-8723-4ffbc588c3c3",
   "metadata": {
    "panel-layout": {
     "height": 1738,
     "visible": true,
     "width": 100
    }
   },
   "outputs": [
    {
     "data": {
      "image/png": "[encoded data removed]",
      "text/plain": [
       "<Figure size 2000x1200 with 4 Axes>"
      ]
     },
     "metadata": {},
     "output_type": "display_data"
    }
   ],
   "source": [
    "import matplotlib.pyplot as plt\n",
    "\n",
    "# Set figure size\n",
    "plt.figure(figsize=(20,12))\n",
    "\n",
    "# Top 10 Countries - Confirmed\n",
    "plt.subplot(2,2,1)\n",
    "plt.barh(top10_confirmed['Country/Region'], top10_confirmed['Confirmed'], color='skyblue')\n",
    "plt.title('Top 10 Countries by Confirmed Cases')\n",
    "plt.gca().invert_yaxis()\n",
    "plt.grid(True)\n",
    "\n",
    "# Top 10 Countries - Death Rate\n",
    "plt.subplot(2,2,2)\n",
    "plt.barh(top10_death_rate['Country/Region'], top10_death_rate['Deaths / 100 Cases'], color='salmon')\n",
    "plt.title('Top 10 Countries by Death Rate (%)')\n",
    "plt.gca().invert_yaxis()\n",
    "plt.grid(True)\n",
    "\n",
    "# WHO Region Cases\n",
    "plt.subplot(2,2,3)\n",
    "Region_cases.plot(kind='bar', color='mediumseagreen')\n",
    "plt.title('Total Cases by WHO Region')\n",
    "plt.ylabel('Total Cases')\n",
    "plt.xticks(rotation=360)\n",
    "plt.grid(True)\n",
    "\n",
    "# Top 10 Countries - Weekly Growth\n",
    "plt.subplot(2,2,4)\n",
    "plt.barh(top10_growth['Country/Region'], top10_growth['1 week % increase'], color='orange')\n",
    "plt.title('Top 10 Countries by Weekly Growth (%)')\n",
    "plt.gca().invert_yaxis()\n",
    "plt.grid(True)\n",
    "\n",
    "plt.tight_layout()\n",
    "plt.show()\n"
   ]
  },
  {
   "cell_type": "markdown",
   "id": "08d7ecd2-555a-4e56-acf4-8dfef53ab4d7",
   "metadata": {
    "panel-layout": {
     "height": 136.844,
     "visible": true,
     "width": 100
    }
   },
   "source": [
    "| Metric | Value |\n",
    "|:-------|:------|\n",
    "| Total Countries | 187 |\n",
    "| Highest Confirmed Cases | USA |\n",
    "| Highest Death Rate | Yemen |\n",
    "| Fastest Growth | Zimbabwe |"
   ]
  },
  {
   "cell_type": "markdown",
   "id": "a2f1afb9-bb1d-4cd1-aa3e-1a50d049036e",
   "metadata": {
    "panel-layout": {
     "height": 937.0390625,
     "visible": true,
     "width": 100
    }
   },
   "source": [
    "# COVID-19 World Data Analysis 📊🌎\n",
    "\n",
    "## 🔥 Project Overview\n",
    "This project analyzes the global spread, impact, and trends of COVID-19 using real-world data from Kaggle.  \n",
    "We perform data cleaning, exploratory data analysis (EDA), visualization, and extract key insights.\n",
    "\n",
    "---\n",
    "\n",
    "## 📂 Dataset\n",
    "- Source: [Kaggle COVID-19 Clean Dataset](https://www.kaggle.com/) (or add real link)\n",
    "- Features include: Country, Confirmed Cases, Deaths, Recovered, Active Cases, WHO Region, Weekly Changes.\n",
    "\n",
    "---\n",
    "\n",
    "## ⚙️ Tools & Libraries\n",
    "- Python 3\n",
    "- Pandas\n",
    "- NumPy\n",
    "- Matplotlib\n",
    "- Seaborn\n",
    "\n",
    "---\n",
    "\n",
    "## 📊 Project Steps\n",
    "\n",
    "1. Import and Understand the Data\n",
    "2. Data Cleaning and Preprocessing\n",
    "3. Exploratory Data Analysis (EDA)\n",
    "4. Visualizations (Top Countries, Death Rates, Growth)\n",
    "5. Insights & Key Findings\n",
    "6. Final Dashboard\n",
    "\n",
    "---\n",
    "\n",
    "## 🌟 Key Insights\n",
    "- 🇺🇸 USA had the highest confirmed cases.\n",
    "- 🇾🇪 Yemen had the highest death rate.\n",
    "- 🌎 Americas WHO region reported most cases.\n",
    "- 🇿🇼 Zimbabwe showed the highest 1-week growth.\n",
    "\n",
    "---\n",
    "\n",
    "## 🚀 How to Run\n",
    "1. Clone the repository.\n",
    "2. Install requirements if necessary (`pip install pandas matplotlib seaborn`).\n",
    "3. Run the Jupyter Notebook step-by-step.\n",
    "\n",
    "---\n",
    "\n",
    "## 📸 Project Thumbnail\n",
    "![Project Thumbnail](thumbnail.png)\n",
    "\n",
    "---\n",
    "\n",
    "## 🏷️ Tags\n",
    "#datascience #covid19 #eda #visualization #python #pandascourse\n"
   ]
  },
  {
   "cell_type": "code",
   "execution_count": null,
   "id": "6d67af35-4e5e-4cf4-90ed-18a7ff6b38b7",
   "metadata": {},
   "outputs": [],
   "source": []
  },
  {
   "cell_type": "code",
   "execution_count": null,
   "id": "d38e58fa-85e8-4fcb-b677-4933d051c6db",
   "metadata": {},
   "outputs": [],
   "source": []
  }
 ],
 "metadata": {
  "kernelspec": {
   "display_name": "Python [conda env:base] *",
   "language": "python",
   "name": "conda-base-py"
  },
  "language_info": {
   "codemirror_mode": {
    "name": "ipython",
    "version": 3
   },
   "file_extension": ".py",
   "mimetype": "text/x-python",
   "name": "python",
   "nbconvert_exporter": "python",
   "pygments_lexer": "ipython3",
   "version": "3.12.7"
  },
  "panel-cell-order": [
   "2d6e8f08-a004-419e-87f3-07e3b754f8b7",
   "e08edaa7-bc16-460b-8a6b-e77d2dbe7115",
   "3e61344d-a677-4ea6-92a8-819bc59f72bb",
   "91b5695e-0bb0-4d90-abc0-4fd8783f0cfc",
   "73dc4541-7eb9-450f-a58d-03b5e990a910",
   "d82747a2-3e4e-47cf-a44d-3b2e867e1e07",
   "12b10569-c012-4d9f-8186-973f59bbf4ae",
   "d8dd1f4d-b028-456b-945b-c61a69f01bf0",
   "be123789-90f0-4745-a582-1fabd76bcbea",
   "4314bc48-5bb2-489c-8b1f-612220c19d25",
   "4d18f529-06ae-4e87-8283-e0621e2b1a6b",
   "711fe06c-ea9d-4ddc-a073-ca1014b13112",
   "decbad8e-cb95-4106-a6c8-89c4ab2f2da6",
   "aea75ae9-0933-43bb-a981-5d669421e30c",
   "b2eb6437-b864-4a73-b98b-eb010dff5003",
   "a1e21f43-68d3-4f1f-96b9-d9d07ffc2960",
   "6c1ecf91-5f85-4fd0-810e-0c4c9d496b39",
   "66aa1f9c-fad7-4020-9153-7034d36f1bb0",
   "3e44a1d7-57ae-48e5-917a-e78f9db7d46a",
   "67879d1f-8705-4b7c-9feb-df3db251752f",
   "761e88d7-8041-46e1-a531-82c41242c220",
   "9f8f7433-e5fc-475c-9581-46d5f8d13198",
   "696431e3-f689-4fcf-b722-6d53ac113157",
   "e68e04aa-8703-4444-8d11-97413be70ccb",
   "cc936124-f6cd-4e9e-b07b-06d8999a8fa4",
   "860572e1-7084-4404-a079-3382843026b0",
   "6b94e521-d72e-4072-bcf2-2cb9e89463fd",
   "ae0bc064-d9e4-4891-99b4-3e03e1ad6cdd",
   "779e77f2-a084-4f8f-803a-8696658c9cf4",
   "cbd914cd-aa6d-4186-ac05-7d84a42479dc",
   "8bd83ac5-a3ab-4676-a2a8-ab70932a6499",
   "923d034a-2f86-46a4-8153-3770581a5fe1",
   "ef1d89f6-d191-45d7-9f2b-5e061f6c1dc8",
   "c9322564-1638-4e46-b050-56246f5065d6",
   "0fd08542-9cc2-4023-bc4b-e729b85c6f56",
   "89e4ab7e-8844-4bc1-8c07-04eaa677f7d4",
   "a9309555-fbdd-42bf-8723-4ffbc588c3c3",
   "08d7ecd2-555a-4e56-acf4-8dfef53ab4d7",
   "a2f1afb9-bb1d-4cd1-aa3e-1a50d049036e"
  ]
 },
 "nbformat": 4,
 "nbformat_minor": 5
}
